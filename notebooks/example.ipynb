{
 "cells": [
  {
   "cell_type": "code",
   "execution_count": 2,
   "metadata": {},
   "outputs": [],
   "source": [
    "import pandas as pd\n",
    "import polars as pl\n",
    "import numpy as np\n",
    "import random\n",
    "from datetime import datetime, timedelta\n",
    "\n",
    "def random_dates(start, end, n):\n",
    "    start_u = start.value//10**9\n",
    "    end_u = end.value//10**9\n",
    "    return pd.to_datetime(np.random.randint(start_u, end_u, n), unit='s')\n",
    "\n",
    "def generate_dataframe(num_rows):\n",
    "    # Generate data\n",
    "    int_data = np.random.randint(1, 100, size=num_rows)\n",
    "    float_data = np.random.uniform(1.0, 100.0, size=num_rows)\n",
    "    string_data = [''.join(random.choices('ABCDEFGHIJKLMNOPQRSTUVWXYZ', k=5)) for _ in range(num_rows)]\n",
    "    datetime_data = random_dates(pd.to_datetime('2020-01-01'), pd.to_datetime('2023-01-01'), num_rows)\n",
    "    boolean_data = np.random.choice([True, False], size=num_rows)\n",
    "    category_data = pd.Categorical(np.random.choice(['A', 'B', 'C', 'D'], size=num_rows))\n",
    "    complex_string_data = ['user_' + ''.join(random.choices('0123456789', k=4)) for _ in range(num_rows)]\n",
    "    # Another integer column\n",
    "    another_int_data = np.random.randint(100, 200, size=num_rows)\n",
    "    # Another float column with a different range\n",
    "    another_float_data = np.random.uniform(100.0, 200.0, size=num_rows)\n",
    "\n",
    "    # Create DataFrame\n",
    "    df = pd.DataFrame({\n",
    "        'integers': int_data,\n",
    "        'floats': float_data,\n",
    "        'strings': string_data,\n",
    "        'datetimes': datetime_data,\n",
    "        'booleans': boolean_data,\n",
    "        'categories': category_data,\n",
    "        'complex_strings': complex_string_data,\n",
    "        'more_integers': another_int_data,\n",
    "        'more_floats': another_float_data,\n",
    "    })\n",
    "    \n",
    "    return df\n",
    "\n",
    "# Example usage\n",
    "df = generate_dataframe(1_000_000)\n"
   ]
  },
  {
   "cell_type": "code",
   "execution_count": 3,
   "metadata": {},
   "outputs": [],
   "source": [
    "subset_df = df.sample(n=10000).filter(items = ['complex_strings'])"
   ]
  },
  {
   "cell_type": "code",
   "execution_count": 4,
   "metadata": {},
   "outputs": [],
   "source": [
    "df_polars = pl.from_pandas(df)\n",
    "subset_df_polars = pl.from_pandas(subset_df)"
   ]
  },
  {
   "cell_type": "code",
   "execution_count": 6,
   "metadata": {},
   "outputs": [
    {
     "data": {
      "text/html": [
       "<div><style>\n",
       ".dataframe > thead > tr,\n",
       ".dataframe > tbody > tr {\n",
       "  text-align: right;\n",
       "  white-space: pre-wrap;\n",
       "}\n",
       "</style>\n",
       "<small>shape: (1, 1)</small><table border=\"1\" class=\"dataframe\"><thead><tr><th>categories</th></tr><tr><td>cat</td></tr></thead><tbody><tr><td>&quot;A&quot;</td></tr></tbody></table></div>"
      ],
      "text/plain": [
       "shape: (1, 1)\n",
       "┌────────────┐\n",
       "│ categories │\n",
       "│ ---        │\n",
       "│ cat        │\n",
       "╞════════════╡\n",
       "│ A          │\n",
       "└────────────┘"
      ]
     },
     "execution_count": 6,
     "metadata": {},
     "output_type": "execute_result"
    }
   ],
   "source": [
    "output = (\n",
    "    df_polars\n",
    "    .with_columns(\n",
    "        [pl.col('datetimes').dt.year().alias('year'),\n",
    "         pl.col('datetimes').dt.month().alias('month')]\n",
    "    )\n",
    "    .filter(pl.col('year') == 2022)\n",
    "    .join(subset_df_polars, on='complex_strings', how='inner')\n",
    "    .group_by('categories')\n",
    "    .agg(\n",
    "        pl.col('integers').sum().alias('sum_integers'),\n",
    "        pl.col('floats').mean().alias('mean_floats'),\n",
    "    )\n",
    "    .filter(pl.col('mean_floats') == pl.col('mean_floats').max())\n",
    "    .select(['categories'])\n",
    ")\n"
   ]
  }
 ],
 "metadata": {
  "language_info": {
   "name": "python"
  }
 },
 "nbformat": 4,
 "nbformat_minor": 2
}
